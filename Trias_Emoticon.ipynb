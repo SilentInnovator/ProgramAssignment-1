{
 "cells": [
  {
   "cell_type": "code",
   "execution_count": null,
   "id": "ed88646e-43a7-45dd-8235-0988820df266",
   "metadata": {},
   "outputs": [],
   "source": [
    "e = {\"smile\": \":)\", \"grin\":\":D\", \"sad\":\":((\", \"mad\":\">:(\"}"
   ]
  },
  {
   "cell_type": "code",
   "execution_count": null,
   "id": "987eea06-bd83-492a-9fd2-59ec09022aba",
   "metadata": {},
   "outputs": [],
   "source": [
    "s = input (\"\")"
   ]
  },
  {
   "cell_type": "code",
   "execution_count": null,
   "id": "73db4dc3-f9df-4d85-9de0-2d79745a1ed7",
   "metadata": {},
   "outputs": [],
   "source": [
    "d.get(\"smile\")"
   ]
  },
  {
   "cell_type": "code",
   "execution_count": null,
   "id": "0d691c70-0e6c-49a1-9ef0-57606daba8ba",
   "metadata": {},
   "outputs": [],
   "source": []
  }
 ],
 "metadata": {
  "kernelspec": {
   "display_name": "Python 3 (ipykernel)",
   "language": "python",
   "name": "python3"
  },
  "language_info": {
   "codemirror_mode": {
    "name": "ipython",
    "version": 3
   },
   "file_extension": ".py",
   "mimetype": "text/x-python",
   "name": "python",
   "nbconvert_exporter": "python",
   "pygments_lexer": "ipython3",
   "version": "3.12.4"
  }
 },
 "nbformat": 4,
 "nbformat_minor": 5
}
